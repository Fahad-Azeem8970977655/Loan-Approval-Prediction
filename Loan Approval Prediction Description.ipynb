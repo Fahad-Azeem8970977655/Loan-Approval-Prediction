{
  "cells": [
    {
      "cell_type": "markdown",
      "source": [
        "Load & quick EDA"
      ],
      "metadata": {
        "id": "Q-KCyaqlZY4-"
      }
    },
    {
      "cell_type": "code",
      "source": [
        "import pandas as pd\n",
        "df = pd.read_csv(\"/content/loan_approval_dataset.csv\")    # replace filename as needed\n",
        "\n"
      ],
      "metadata": {
        "id": "HU_lXUdyZfYW"
      },
      "execution_count": 23,
      "outputs": []
    },
    {
      "cell_type": "code",
      "source": [
        "print(df.shape)\n",
        "print(df.columns.tolist())\n",
        "print(df[' loan_status'].value_counts(dropna=False))  # target example; adjust column name\n",
        "print(df.isna().sum().sort_values(ascending=False).head(10))\n",
        "df.head()"
      ],
      "metadata": {
        "colab": {
          "base_uri": "https://localhost:8080/",
          "height": 568
        },
        "id": "bCYW__JeZxvJ",
        "outputId": "ad7a3dd0-705c-4aca-c495-4116b06d08be"
      },
      "execution_count": 25,
      "outputs": [
        {
          "output_type": "stream",
          "name": "stdout",
          "text": [
            "(4269, 13)\n",
            "['loan_id', ' no_of_dependents', ' education', ' self_employed', ' income_annum', ' loan_amount', ' loan_term', ' cibil_score', ' residential_assets_value', ' commercial_assets_value', ' luxury_assets_value', ' bank_asset_value', ' loan_status']\n",
            " loan_status\n",
            "Approved    2656\n",
            "Rejected    1613\n",
            "Name: count, dtype: int64\n",
            "loan_id                      0\n",
            " no_of_dependents            0\n",
            " education                   0\n",
            " self_employed               0\n",
            " income_annum                0\n",
            " loan_amount                 0\n",
            " loan_term                   0\n",
            " cibil_score                 0\n",
            " residential_assets_value    0\n",
            " commercial_assets_value     0\n",
            "dtype: int64\n"
          ]
        },
        {
          "output_type": "execute_result",
          "data": {
            "text/plain": [
              "   loan_id   no_of_dependents      education  self_employed   income_annum  \\\n",
              "0        1                  2       Graduate             No        9600000   \n",
              "1        2                  0   Not Graduate            Yes        4100000   \n",
              "2        3                  3       Graduate             No        9100000   \n",
              "3        4                  3       Graduate             No        8200000   \n",
              "4        5                  5   Not Graduate            Yes        9800000   \n",
              "\n",
              "    loan_amount   loan_term   cibil_score   residential_assets_value  \\\n",
              "0      29900000          12           778                    2400000   \n",
              "1      12200000           8           417                    2700000   \n",
              "2      29700000          20           506                    7100000   \n",
              "3      30700000           8           467                   18200000   \n",
              "4      24200000          20           382                   12400000   \n",
              "\n",
              "    commercial_assets_value   luxury_assets_value   bank_asset_value  \\\n",
              "0                  17600000              22700000            8000000   \n",
              "1                   2200000               8800000            3300000   \n",
              "2                   4500000              33300000           12800000   \n",
              "3                   3300000              23300000            7900000   \n",
              "4                   8200000              29400000            5000000   \n",
              "\n",
              "   loan_status  \n",
              "0     Approved  \n",
              "1     Rejected  \n",
              "2     Rejected  \n",
              "3     Rejected  \n",
              "4     Rejected  "
            ],
            "text/html": [
              "\n",
              "  <div id=\"df-73ada788-35b8-4a9a-a36d-78079b2a3f7b\" class=\"colab-df-container\">\n",
              "    <div>\n",
              "<style scoped>\n",
              "    .dataframe tbody tr th:only-of-type {\n",
              "        vertical-align: middle;\n",
              "    }\n",
              "\n",
              "    .dataframe tbody tr th {\n",
              "        vertical-align: top;\n",
              "    }\n",
              "\n",
              "    .dataframe thead th {\n",
              "        text-align: right;\n",
              "    }\n",
              "</style>\n",
              "<table border=\"1\" class=\"dataframe\">\n",
              "  <thead>\n",
              "    <tr style=\"text-align: right;\">\n",
              "      <th></th>\n",
              "      <th>loan_id</th>\n",
              "      <th>no_of_dependents</th>\n",
              "      <th>education</th>\n",
              "      <th>self_employed</th>\n",
              "      <th>income_annum</th>\n",
              "      <th>loan_amount</th>\n",
              "      <th>loan_term</th>\n",
              "      <th>cibil_score</th>\n",
              "      <th>residential_assets_value</th>\n",
              "      <th>commercial_assets_value</th>\n",
              "      <th>luxury_assets_value</th>\n",
              "      <th>bank_asset_value</th>\n",
              "      <th>loan_status</th>\n",
              "    </tr>\n",
              "  </thead>\n",
              "  <tbody>\n",
              "    <tr>\n",
              "      <th>0</th>\n",
              "      <td>1</td>\n",
              "      <td>2</td>\n",
              "      <td>Graduate</td>\n",
              "      <td>No</td>\n",
              "      <td>9600000</td>\n",
              "      <td>29900000</td>\n",
              "      <td>12</td>\n",
              "      <td>778</td>\n",
              "      <td>2400000</td>\n",
              "      <td>17600000</td>\n",
              "      <td>22700000</td>\n",
              "      <td>8000000</td>\n",
              "      <td>Approved</td>\n",
              "    </tr>\n",
              "    <tr>\n",
              "      <th>1</th>\n",
              "      <td>2</td>\n",
              "      <td>0</td>\n",
              "      <td>Not Graduate</td>\n",
              "      <td>Yes</td>\n",
              "      <td>4100000</td>\n",
              "      <td>12200000</td>\n",
              "      <td>8</td>\n",
              "      <td>417</td>\n",
              "      <td>2700000</td>\n",
              "      <td>2200000</td>\n",
              "      <td>8800000</td>\n",
              "      <td>3300000</td>\n",
              "      <td>Rejected</td>\n",
              "    </tr>\n",
              "    <tr>\n",
              "      <th>2</th>\n",
              "      <td>3</td>\n",
              "      <td>3</td>\n",
              "      <td>Graduate</td>\n",
              "      <td>No</td>\n",
              "      <td>9100000</td>\n",
              "      <td>29700000</td>\n",
              "      <td>20</td>\n",
              "      <td>506</td>\n",
              "      <td>7100000</td>\n",
              "      <td>4500000</td>\n",
              "      <td>33300000</td>\n",
              "      <td>12800000</td>\n",
              "      <td>Rejected</td>\n",
              "    </tr>\n",
              "    <tr>\n",
              "      <th>3</th>\n",
              "      <td>4</td>\n",
              "      <td>3</td>\n",
              "      <td>Graduate</td>\n",
              "      <td>No</td>\n",
              "      <td>8200000</td>\n",
              "      <td>30700000</td>\n",
              "      <td>8</td>\n",
              "      <td>467</td>\n",
              "      <td>18200000</td>\n",
              "      <td>3300000</td>\n",
              "      <td>23300000</td>\n",
              "      <td>7900000</td>\n",
              "      <td>Rejected</td>\n",
              "    </tr>\n",
              "    <tr>\n",
              "      <th>4</th>\n",
              "      <td>5</td>\n",
              "      <td>5</td>\n",
              "      <td>Not Graduate</td>\n",
              "      <td>Yes</td>\n",
              "      <td>9800000</td>\n",
              "      <td>24200000</td>\n",
              "      <td>20</td>\n",
              "      <td>382</td>\n",
              "      <td>12400000</td>\n",
              "      <td>8200000</td>\n",
              "      <td>29400000</td>\n",
              "      <td>5000000</td>\n",
              "      <td>Rejected</td>\n",
              "    </tr>\n",
              "  </tbody>\n",
              "</table>\n",
              "</div>\n",
              "    <div class=\"colab-df-buttons\">\n",
              "\n",
              "  <div class=\"colab-df-container\">\n",
              "    <button class=\"colab-df-convert\" onclick=\"convertToInteractive('df-73ada788-35b8-4a9a-a36d-78079b2a3f7b')\"\n",
              "            title=\"Convert this dataframe to an interactive table.\"\n",
              "            style=\"display:none;\">\n",
              "\n",
              "  <svg xmlns=\"http://www.w3.org/2000/svg\" height=\"24px\" viewBox=\"0 -960 960 960\">\n",
              "    <path d=\"M120-120v-720h720v720H120Zm60-500h600v-160H180v160Zm220 220h160v-160H400v160Zm0 220h160v-160H400v160ZM180-400h160v-160H180v160Zm440 0h160v-160H620v160ZM180-180h160v-160H180v160Zm440 0h160v-160H620v160Z\"/>\n",
              "  </svg>\n",
              "    </button>\n",
              "\n",
              "  <style>\n",
              "    .colab-df-container {\n",
              "      display:flex;\n",
              "      gap: 12px;\n",
              "    }\n",
              "\n",
              "    .colab-df-convert {\n",
              "      background-color: #E8F0FE;\n",
              "      border: none;\n",
              "      border-radius: 50%;\n",
              "      cursor: pointer;\n",
              "      display: none;\n",
              "      fill: #1967D2;\n",
              "      height: 32px;\n",
              "      padding: 0 0 0 0;\n",
              "      width: 32px;\n",
              "    }\n",
              "\n",
              "    .colab-df-convert:hover {\n",
              "      background-color: #E2EBFA;\n",
              "      box-shadow: 0px 1px 2px rgba(60, 64, 67, 0.3), 0px 1px 3px 1px rgba(60, 64, 67, 0.15);\n",
              "      fill: #174EA6;\n",
              "    }\n",
              "\n",
              "    .colab-df-buttons div {\n",
              "      margin-bottom: 4px;\n",
              "    }\n",
              "\n",
              "    [theme=dark] .colab-df-convert {\n",
              "      background-color: #3B4455;\n",
              "      fill: #D2E3FC;\n",
              "    }\n",
              "\n",
              "    [theme=dark] .colab-df-convert:hover {\n",
              "      background-color: #434B5C;\n",
              "      box-shadow: 0px 1px 3px 1px rgba(0, 0, 0, 0.15);\n",
              "      filter: drop-shadow(0px 1px 2px rgba(0, 0, 0, 0.3));\n",
              "      fill: #FFFFFF;\n",
              "    }\n",
              "  </style>\n",
              "\n",
              "    <script>\n",
              "      const buttonEl =\n",
              "        document.querySelector('#df-73ada788-35b8-4a9a-a36d-78079b2a3f7b button.colab-df-convert');\n",
              "      buttonEl.style.display =\n",
              "        google.colab.kernel.accessAllowed ? 'block' : 'none';\n",
              "\n",
              "      async function convertToInteractive(key) {\n",
              "        const element = document.querySelector('#df-73ada788-35b8-4a9a-a36d-78079b2a3f7b');\n",
              "        const dataTable =\n",
              "          await google.colab.kernel.invokeFunction('convertToInteractive',\n",
              "                                                    [key], {});\n",
              "        if (!dataTable) return;\n",
              "\n",
              "        const docLinkHtml = 'Like what you see? Visit the ' +\n",
              "          '<a target=\"_blank\" href=https://colab.research.google.com/notebooks/data_table.ipynb>data table notebook</a>'\n",
              "          + ' to learn more about interactive tables.';\n",
              "        element.innerHTML = '';\n",
              "        dataTable['output_type'] = 'display_data';\n",
              "        await google.colab.output.renderOutput(dataTable, element);\n",
              "        const docLink = document.createElement('div');\n",
              "        docLink.innerHTML = docLinkHtml;\n",
              "        element.appendChild(docLink);\n",
              "      }\n",
              "    </script>\n",
              "  </div>\n",
              "\n",
              "\n",
              "    <div id=\"df-799a2e1d-39dc-4fc4-b26d-d0d0141d6392\">\n",
              "      <button class=\"colab-df-quickchart\" onclick=\"quickchart('df-799a2e1d-39dc-4fc4-b26d-d0d0141d6392')\"\n",
              "                title=\"Suggest charts\"\n",
              "                style=\"display:none;\">\n",
              "\n",
              "<svg xmlns=\"http://www.w3.org/2000/svg\" height=\"24px\"viewBox=\"0 0 24 24\"\n",
              "     width=\"24px\">\n",
              "    <g>\n",
              "        <path d=\"M19 3H5c-1.1 0-2 .9-2 2v14c0 1.1.9 2 2 2h14c1.1 0 2-.9 2-2V5c0-1.1-.9-2-2-2zM9 17H7v-7h2v7zm4 0h-2V7h2v10zm4 0h-2v-4h2v4z\"/>\n",
              "    </g>\n",
              "</svg>\n",
              "      </button>\n",
              "\n",
              "<style>\n",
              "  .colab-df-quickchart {\n",
              "      --bg-color: #E8F0FE;\n",
              "      --fill-color: #1967D2;\n",
              "      --hover-bg-color: #E2EBFA;\n",
              "      --hover-fill-color: #174EA6;\n",
              "      --disabled-fill-color: #AAA;\n",
              "      --disabled-bg-color: #DDD;\n",
              "  }\n",
              "\n",
              "  [theme=dark] .colab-df-quickchart {\n",
              "      --bg-color: #3B4455;\n",
              "      --fill-color: #D2E3FC;\n",
              "      --hover-bg-color: #434B5C;\n",
              "      --hover-fill-color: #FFFFFF;\n",
              "      --disabled-bg-color: #3B4455;\n",
              "      --disabled-fill-color: #666;\n",
              "  }\n",
              "\n",
              "  .colab-df-quickchart {\n",
              "    background-color: var(--bg-color);\n",
              "    border: none;\n",
              "    border-radius: 50%;\n",
              "    cursor: pointer;\n",
              "    display: none;\n",
              "    fill: var(--fill-color);\n",
              "    height: 32px;\n",
              "    padding: 0;\n",
              "    width: 32px;\n",
              "  }\n",
              "\n",
              "  .colab-df-quickchart:hover {\n",
              "    background-color: var(--hover-bg-color);\n",
              "    box-shadow: 0 1px 2px rgba(60, 64, 67, 0.3), 0 1px 3px 1px rgba(60, 64, 67, 0.15);\n",
              "    fill: var(--button-hover-fill-color);\n",
              "  }\n",
              "\n",
              "  .colab-df-quickchart-complete:disabled,\n",
              "  .colab-df-quickchart-complete:disabled:hover {\n",
              "    background-color: var(--disabled-bg-color);\n",
              "    fill: var(--disabled-fill-color);\n",
              "    box-shadow: none;\n",
              "  }\n",
              "\n",
              "  .colab-df-spinner {\n",
              "    border: 2px solid var(--fill-color);\n",
              "    border-color: transparent;\n",
              "    border-bottom-color: var(--fill-color);\n",
              "    animation:\n",
              "      spin 1s steps(1) infinite;\n",
              "  }\n",
              "\n",
              "  @keyframes spin {\n",
              "    0% {\n",
              "      border-color: transparent;\n",
              "      border-bottom-color: var(--fill-color);\n",
              "      border-left-color: var(--fill-color);\n",
              "    }\n",
              "    20% {\n",
              "      border-color: transparent;\n",
              "      border-left-color: var(--fill-color);\n",
              "      border-top-color: var(--fill-color);\n",
              "    }\n",
              "    30% {\n",
              "      border-color: transparent;\n",
              "      border-left-color: var(--fill-color);\n",
              "      border-top-color: var(--fill-color);\n",
              "      border-right-color: var(--fill-color);\n",
              "    }\n",
              "    40% {\n",
              "      border-color: transparent;\n",
              "      border-right-color: var(--fill-color);\n",
              "      border-top-color: var(--fill-color);\n",
              "    }\n",
              "    60% {\n",
              "      border-color: transparent;\n",
              "      border-right-color: var(--fill-color);\n",
              "    }\n",
              "    80% {\n",
              "      border-color: transparent;\n",
              "      border-right-color: var(--fill-color);\n",
              "      border-bottom-color: var(--fill-color);\n",
              "    }\n",
              "    90% {\n",
              "      border-color: transparent;\n",
              "      border-bottom-color: var(--fill-color);\n",
              "    }\n",
              "  }\n",
              "</style>\n",
              "\n",
              "      <script>\n",
              "        async function quickchart(key) {\n",
              "          const quickchartButtonEl =\n",
              "            document.querySelector('#' + key + ' button');\n",
              "          quickchartButtonEl.disabled = true;  // To prevent multiple clicks.\n",
              "          quickchartButtonEl.classList.add('colab-df-spinner');\n",
              "          try {\n",
              "            const charts = await google.colab.kernel.invokeFunction(\n",
              "                'suggestCharts', [key], {});\n",
              "          } catch (error) {\n",
              "            console.error('Error during call to suggestCharts:', error);\n",
              "          }\n",
              "          quickchartButtonEl.classList.remove('colab-df-spinner');\n",
              "          quickchartButtonEl.classList.add('colab-df-quickchart-complete');\n",
              "        }\n",
              "        (() => {\n",
              "          let quickchartButtonEl =\n",
              "            document.querySelector('#df-799a2e1d-39dc-4fc4-b26d-d0d0141d6392 button');\n",
              "          quickchartButtonEl.style.display =\n",
              "            google.colab.kernel.accessAllowed ? 'block' : 'none';\n",
              "        })();\n",
              "      </script>\n",
              "    </div>\n",
              "\n",
              "    </div>\n",
              "  </div>\n"
            ],
            "application/vnd.google.colaboratory.intrinsic+json": {
              "type": "dataframe",
              "variable_name": "df",
              "summary": "{\n  \"name\": \"df\",\n  \"rows\": 4269,\n  \"fields\": [\n    {\n      \"column\": \"loan_id\",\n      \"properties\": {\n        \"dtype\": \"number\",\n        \"std\": 1232,\n        \"min\": 1,\n        \"max\": 4269,\n        \"num_unique_values\": 4269,\n        \"samples\": [\n          1704,\n          1174,\n          309\n        ],\n        \"semantic_type\": \"\",\n        \"description\": \"\"\n      }\n    },\n    {\n      \"column\": \" no_of_dependents\",\n      \"properties\": {\n        \"dtype\": \"number\",\n        \"std\": 1,\n        \"min\": 0,\n        \"max\": 5,\n        \"num_unique_values\": 6,\n        \"samples\": [\n          2,\n          0,\n          1\n        ],\n        \"semantic_type\": \"\",\n        \"description\": \"\"\n      }\n    },\n    {\n      \"column\": \" education\",\n      \"properties\": {\n        \"dtype\": \"category\",\n        \"num_unique_values\": 2,\n        \"samples\": [\n          \" Not Graduate\",\n          \" Graduate\"\n        ],\n        \"semantic_type\": \"\",\n        \"description\": \"\"\n      }\n    },\n    {\n      \"column\": \" self_employed\",\n      \"properties\": {\n        \"dtype\": \"category\",\n        \"num_unique_values\": 2,\n        \"samples\": [\n          \" Yes\",\n          \" No\"\n        ],\n        \"semantic_type\": \"\",\n        \"description\": \"\"\n      }\n    },\n    {\n      \"column\": \" income_annum\",\n      \"properties\": {\n        \"dtype\": \"number\",\n        \"std\": 2806839,\n        \"min\": 200000,\n        \"max\": 9900000,\n        \"num_unique_values\": 98,\n        \"samples\": [\n          6200000,\n          9300000\n        ],\n        \"semantic_type\": \"\",\n        \"description\": \"\"\n      }\n    },\n    {\n      \"column\": \" loan_amount\",\n      \"properties\": {\n        \"dtype\": \"number\",\n        \"std\": 9043362,\n        \"min\": 300000,\n        \"max\": 39500000,\n        \"num_unique_values\": 378,\n        \"samples\": [\n          25800000,\n          26100000\n        ],\n        \"semantic_type\": \"\",\n        \"description\": \"\"\n      }\n    },\n    {\n      \"column\": \" loan_term\",\n      \"properties\": {\n        \"dtype\": \"number\",\n        \"std\": 5,\n        \"min\": 2,\n        \"max\": 20,\n        \"num_unique_values\": 10,\n        \"samples\": [\n          14,\n          8\n        ],\n        \"semantic_type\": \"\",\n        \"description\": \"\"\n      }\n    },\n    {\n      \"column\": \" cibil_score\",\n      \"properties\": {\n        \"dtype\": \"number\",\n        \"std\": 172,\n        \"min\": 300,\n        \"max\": 900,\n        \"num_unique_values\": 601,\n        \"samples\": [\n          859,\n          414\n        ],\n        \"semantic_type\": \"\",\n        \"description\": \"\"\n      }\n    },\n    {\n      \"column\": \" residential_assets_value\",\n      \"properties\": {\n        \"dtype\": \"number\",\n        \"std\": 6503636,\n        \"min\": -100000,\n        \"max\": 29100000,\n        \"num_unique_values\": 278,\n        \"samples\": [\n          700000,\n          3500000\n        ],\n        \"semantic_type\": \"\",\n        \"description\": \"\"\n      }\n    },\n    {\n      \"column\": \" commercial_assets_value\",\n      \"properties\": {\n        \"dtype\": \"number\",\n        \"std\": 4388966,\n        \"min\": 0,\n        \"max\": 19400000,\n        \"num_unique_values\": 188,\n        \"samples\": [\n          13500000,\n          14600000\n        ],\n        \"semantic_type\": \"\",\n        \"description\": \"\"\n      }\n    },\n    {\n      \"column\": \" luxury_assets_value\",\n      \"properties\": {\n        \"dtype\": \"number\",\n        \"std\": 9103753,\n        \"min\": 300000,\n        \"max\": 39200000,\n        \"num_unique_values\": 379,\n        \"samples\": [\n          15300000,\n          12100000\n        ],\n        \"semantic_type\": \"\",\n        \"description\": \"\"\n      }\n    },\n    {\n      \"column\": \" bank_asset_value\",\n      \"properties\": {\n        \"dtype\": \"number\",\n        \"std\": 3250185,\n        \"min\": 0,\n        \"max\": 14700000,\n        \"num_unique_values\": 146,\n        \"samples\": [\n          4800000,\n          14400000\n        ],\n        \"semantic_type\": \"\",\n        \"description\": \"\"\n      }\n    },\n    {\n      \"column\": \" loan_status\",\n      \"properties\": {\n        \"dtype\": \"category\",\n        \"num_unique_values\": 2,\n        \"samples\": [\n          \" Rejected\",\n          \" Approved\"\n        ],\n        \"semantic_type\": \"\",\n        \"description\": \"\"\n      }\n    }\n  ]\n}"
            }
          },
          "metadata": {},
          "execution_count": 25
        }
      ]
    },
    {
      "cell_type": "markdown",
      "source": [
        "Preprocessing plan (automatic, robust)"
      ],
      "metadata": {
        "id": "PeuIG1bjZ7PG"
      }
    },
    {
      "cell_type": "code",
      "source": [
        "from sklearn.model_selection import train_test_split\n",
        "from sklearn.impute import SimpleImputer\n",
        "from sklearn.preprocessing import OneHotEncoder, StandardScaler\n",
        "from sklearn.compose import ColumnTransformer\n",
        "from imblearn.pipeline import Pipeline as ImbPipeline\n",
        "from sklearn.pipeline import Pipeline # Import Pipeline\n",
        "from imblearn.over_sampling import SMOTE\n",
        "\n",
        "# assume df loaded and target col name known\n",
        "TARGET = ' loan_status'   # adjust\n",
        "# convert target to binary 0/1 (already done in previous cell)\n",
        "# df[TARGET] = df[TARGET].str.strip().map({'Approved':1, 'Rejected':0}) # Removed this line\n",
        "\n",
        "X = df.drop(columns=[TARGET])\n",
        "y = df[TARGET].astype(int)\n",
        "\n",
        "# detect types\n",
        "num_cols = X.select_dtypes(include=['int64','float64']).columns.tolist()\n",
        "cat_cols = X.select_dtypes(include=['object','category']).columns.tolist()\n",
        "\n",
        "# transformers\n",
        "num_transformer = Pipeline([\n",
        "    ('imputer', SimpleImputer(strategy='median')),\n",
        "    ('scaler', StandardScaler())\n",
        "])\n",
        "\n",
        "cat_transformer = Pipeline([\n",
        "    ('imputer', SimpleImputer(strategy='most_frequent')),\n",
        "    ('onehot', OneHotEncoder(handle_unknown='ignore', sparse_output=False)) # Changed sparse to sparse_output\n",
        "])\n",
        "\n",
        "preprocessor = ColumnTransformer([\n",
        "    ('num', num_transformer, num_cols),\n",
        "    ('cat', cat_transformer, cat_cols)\n",
        "])"
      ],
      "metadata": {
        "id": "qS3MKeEqZ_78"
      },
      "execution_count": 30,
      "outputs": []
    },
    {
      "cell_type": "markdown",
      "source": [
        "Train/test split (stratified)"
      ],
      "metadata": {
        "id": "SZ-eBsG0aWHW"
      }
    },
    {
      "cell_type": "code",
      "source": [
        "X_train, X_test, y_train, y_test = train_test_split(\n",
        "    X, y, test_size=0.2, stratify=y, random_state=42\n",
        ")\n"
      ],
      "metadata": {
        "id": "IfE0eG12abSp"
      },
      "execution_count": 31,
      "outputs": []
    },
    {
      "cell_type": "markdown",
      "source": [
        "Logistic Regression with class_weight"
      ],
      "metadata": {
        "id": "mSdzEziiad-a"
      }
    },
    {
      "cell_type": "code",
      "source": [
        "from sklearn.linear_model import LogisticRegression\n",
        "from sklearn.pipeline import Pipeline\n",
        "from sklearn.metrics import classification_report, confusion_matrix\n",
        "\n",
        "pipeline_lr = Pipeline([\n",
        "    ('pre', preprocessor),\n",
        "    ('clf', LogisticRegression(max_iter=1000, class_weight='balanced', random_state=42))\n",
        "])\n",
        "\n",
        "pipeline_lr.fit(X_train, y_train)\n",
        "y_pred = pipeline_lr.predict(X_test)\n",
        "print(classification_report(y_test, y_pred, digits=4))\n"
      ],
      "metadata": {
        "id": "hib5-4nEaimU",
        "outputId": "f20b04ab-1c19-4ce4-bff1-f5b76e70a596",
        "colab": {
          "base_uri": "https://localhost:8080/"
        }
      },
      "execution_count": 32,
      "outputs": [
        {
          "output_type": "stream",
          "name": "stdout",
          "text": [
            "              precision    recall  f1-score   support\n",
            "\n",
            "           0     0.8779    0.9350    0.9055       323\n",
            "           1     0.9588    0.9209    0.9395       531\n",
            "\n",
            "    accuracy                         0.9262       854\n",
            "   macro avg     0.9184    0.9279    0.9225       854\n",
            "weighted avg     0.9282    0.9262    0.9266       854\n",
            "\n"
          ]
        }
      ]
    },
    {
      "cell_type": "markdown",
      "source": [
        "Decision Tree (no scaling required)"
      ],
      "metadata": {
        "id": "TyUxpE0gam_H"
      }
    },
    {
      "cell_type": "code",
      "source": [
        "from sklearn.tree import DecisionTreeClassifier\n",
        "\n",
        "pipeline_dt = Pipeline([\n",
        "    ('pre', preprocessor),\n",
        "    ('clf', DecisionTreeClassifier(random_state=42, class_weight='balanced'))\n",
        "])\n",
        "\n",
        "pipeline_dt.fit(X_train, y_train)\n",
        "print(classification_report(y_test, pipeline_dt.predict(X_test), digits=4))\n"
      ],
      "metadata": {
        "id": "_HnxQ87uarBC",
        "outputId": "3412b691-7a0f-49e7-cbf8-86b1353f76dc",
        "colab": {
          "base_uri": "https://localhost:8080/"
        }
      },
      "execution_count": 33,
      "outputs": [
        {
          "output_type": "stream",
          "name": "stdout",
          "text": [
            "              precision    recall  f1-score   support\n",
            "\n",
            "           0     0.9842    0.9628    0.9734       323\n",
            "           1     0.9777    0.9906    0.9841       531\n",
            "\n",
            "    accuracy                         0.9801       854\n",
            "   macro avg     0.9809    0.9767    0.9787       854\n",
            "weighted avg     0.9801    0.9801    0.9800       854\n",
            "\n"
          ]
        }
      ]
    },
    {
      "cell_type": "markdown",
      "source": [
        "Handle imbalance with SMOTE"
      ],
      "metadata": {
        "id": "wo3z5ptDaxiv"
      }
    },
    {
      "cell_type": "code",
      "source": [
        "from imblearn.pipeline import Pipeline as ImbPipeline\n",
        "from imblearn.over_sampling import SMOTE\n",
        "\n",
        "smote = SMOTE(random_state=42)\n",
        "\n",
        "pipeline_lr_smote = ImbPipeline([\n",
        "    ('pre', preprocessor),\n",
        "    ('smote', smote),\n",
        "    ('clf', LogisticRegression(max_iter=1000, random_state=42))\n",
        "])\n",
        "\n",
        "pipeline_lr_smote.fit(X_train, y_train)\n",
        "print(classification_report(y_test, pipeline_lr_smote.predict(X_test), digits=4))\n"
      ],
      "metadata": {
        "id": "rxdnGG5xa1Ux",
        "outputId": "a7dd7a71-1cfd-412f-893a-f8c9c1264f06",
        "colab": {
          "base_uri": "https://localhost:8080/"
        }
      },
      "execution_count": 34,
      "outputs": [
        {
          "output_type": "stream",
          "name": "stdout",
          "text": [
            "              precision    recall  f1-score   support\n",
            "\n",
            "           0     0.8801    0.9319    0.9053       323\n",
            "           1     0.9570    0.9228    0.9396       531\n",
            "\n",
            "    accuracy                         0.9262       854\n",
            "   macro avg     0.9186    0.9273    0.9224       854\n",
            "weighted avg     0.9279    0.9262    0.9266       854\n",
            "\n"
          ]
        }
      ]
    },
    {
      "cell_type": "markdown",
      "source": [
        "Evaluation focus: precision / recall / F1 (and PR curve)"
      ],
      "metadata": {
        "id": "s6LPOdiya5d9"
      }
    },
    {
      "cell_type": "code",
      "source": [
        "from sklearn.metrics import precision_recall_curve, average_precision_score\n",
        "import matplotlib.pyplot as plt\n",
        "import numpy as np\n",
        "\n",
        "y_scores = pipeline_lr_smote.predict_proba(X_test)[:,1]\n",
        "precision, recall, thresh = precision_recall_curve(y_test, y_scores)\n",
        "ap = average_precision_score(y_test, y_scores)\n",
        "plt.plot(recall, precision)\n",
        "plt.xlabel(\"Recall\")\n",
        "plt.ylabel(\"Precision\")\n",
        "plt.title(f\"Precision-Recall curve (AP={ap:.3f})\")\n",
        "plt.show()\n"
      ],
      "metadata": {
        "id": "r-OOd4-Ta9Ry",
        "outputId": "e7187292-7a4b-42c8-f539-e95241e9ceed",
        "colab": {
          "base_uri": "https://localhost:8080/",
          "height": 472
        }
      },
      "execution_count": 35,
      "outputs": [
        {
          "output_type": "display_data",
          "data": {
            "text/plain": [
              "<Figure size 640x480 with 1 Axes>"
            ],
            "image/png": "[encoded data removed]"
          },
          "metadata": {}
        }
      ]
    },
    {
      "cell_type": "markdown",
      "source": [
        "Hyperparameter tuning"
      ],
      "metadata": {
        "id": "XG-XtJAUbD1F"
      }
    },
    {
      "cell_type": "code",
      "source": [
        "from sklearn.model_selection import GridSearchCV, StratifiedKFold\n",
        "\n",
        "param_grid = {\n",
        "    'clf__max_depth': [3, 5, 8, None],\n",
        "    'clf__min_samples_leaf': [1, 5, 10]\n",
        "}\n",
        "\n",
        "cv = StratifiedKFold(n_splits=5, shuffle=True, random_state=42)\n",
        "\n",
        "pipeline_dt_smote = ImbPipeline([\n",
        "    ('pre', preprocessor),\n",
        "    ('smote', SMOTE(random_state=42)),\n",
        "    ('clf', DecisionTreeClassifier(random_state=42))\n",
        "])\n",
        "\n",
        "gs = GridSearchCV(pipeline_dt_smote, param_grid, scoring='f1', cv=cv, n_jobs=-1, verbose=2)\n",
        "gs.fit(X_train, y_train)\n",
        "print(\"Best params:\", gs.best_params_)\n",
        "print(\"Best CV f1:\", gs.best_score_)\n",
        "print(classification_report(y_test, gs.predict(X_test), digits=4))\n"
      ],
      "metadata": {
        "id": "4ldtZREfbJqy",
        "outputId": "36a3a4f5-33a7-4779-f28f-655bbeccab2b",
        "colab": {
          "base_uri": "https://localhost:8080/"
        }
      },
      "execution_count": 36,
      "outputs": [
        {
          "output_type": "stream",
          "name": "stdout",
          "text": [
            "Fitting 5 folds for each of 12 candidates, totalling 60 fits\n",
            "Best params: {'clf__max_depth': None, 'clf__min_samples_leaf': 10}\n",
            "Best CV f1: 0.9804214222327012\n",
            "              precision    recall  f1-score   support\n",
            "\n",
            "           0     0.9662    0.9721    0.9691       323\n",
            "           1     0.9830    0.9793    0.9811       531\n",
            "\n",
            "    accuracy                         0.9766       854\n",
            "   macro avg     0.9746    0.9757    0.9751       854\n",
            "weighted avg     0.9766    0.9766    0.9766       854\n",
            "\n"
          ]
        }
      ]
    },
    {
      "cell_type": "markdown",
      "source": [
        "Save best model"
      ],
      "metadata": {
        "id": "8atQYSJbbQAz"
      }
    },
    {
      "cell_type": "code",
      "source": [
        "import joblib\n",
        "joblib.dump(gs.best_estimator_, 'best_loan_model.joblib')\n"
      ],
      "metadata": {
        "id": "265deUrJbTym",
        "outputId": "fa105b34-a432-4d83-d6b5-a4a44621423e",
        "colab": {
          "base_uri": "https://localhost:8080/"
        }
      },
      "execution_count": 37,
      "outputs": [
        {
          "output_type": "execute_result",
          "data": {
            "text/plain": [
              "['best_loan_model.joblib']"
            ]
          },
          "metadata": {},
          "execution_count": 37
        }
      ]
    }
  ],
  "metadata": {
    "colab": {
      "name": "Welcome To Colab",
      "provenance": []
    },
    "kernelspec": {
      "display_name": "Python 3",
      "name": "python3"
    }
  },
  "nbformat": 4,
  "nbformat_minor": 0
}